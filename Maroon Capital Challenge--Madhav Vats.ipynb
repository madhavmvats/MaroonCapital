{
 "cells": [
  {
   "cell_type": "code",
   "execution_count": 60,
   "metadata": {},
   "outputs": [],
   "source": [
    "import pandas as pd\n",
    "import matplotlib.pyplot as plt\n",
    "import numpy as np\n",
    "import scipy\n",
    "import random\n",
    "from scipy import stats\n",
    "import statistics"
   ]
  },
  {
   "cell_type": "code",
   "execution_count": 61,
   "metadata": {},
   "outputs": [],
   "source": [
    "sides = [1,2,3,4,5,6,7,8,9,10,11,12,13,14,15,16,17,18,19,\"GO HOME\"]\n",
    "\n",
    "rv_chart = pd.DataFrame()\n",
    "\n",
    "NumGames = 0\n",
    " "
   ]
  },
  {
   "cell_type": "code",
   "execution_count": null,
   "metadata": {},
   "outputs": [],
   "source": [
    "for i in range(10000):\n",
    "    NumGames = NumGames + 1\n",
    "    rv = 0\n",
    "    Winnings=0\n",
    "    playing = True\n",
    "    while playing:\n",
    "        Winnings = Winnings + 1\n",
    "        r =  random.choice(sides)\n",
    "        if r != \"GO HOME\":\n",
    "            rv = rv + r\n",
    "            rv_chart.loc[NumGames, Winnings] = rv\n",
    "        else:\n",
    "            rv = 0\n",
    "            rv_chart.loc[NumGames, Winnings] = rv\n",
    "            playing = False\n",
    "    \n",
    "rv_chart.to_csv('finalRV.csv')"
   ]
  },
  {
   "cell_type": "code",
   "execution_count": null,
   "metadata": {},
   "outputs": [],
   "source": [
    "rv_chart_transposed = rv_chart.transpose()\n",
    "rv_chart_transposed.to_csv('finalRV2.csv')\n",
    "\n",
    "num_rolls = []\n",
    "returnval = []\n",
    "\n",
    "for col_name, data in rv_chart_transposed.items():\n",
    "    fin_index = data.last_valid_index()\n",
    "    num_rolls.append(fin_index)\n",
    "    if fin_index > 1:\n",
    "        returnval.append(rv_chart_transposed.iloc[fin_index-2][col_name])\n",
    "    else:\n",
    "        returnval.append(rv_chart_transposed.iloc[0][col_name])\n",
    "\n",
    "avg_rolls = mean(num_rolls)\n",
    "avg_rv = mean(returnval)\n",
    "\n",
    "#print(avg_rv)\n",
    "#print(avg_rolls)"
   ]
  },
  {
   "cell_type": "code",
   "execution_count": null,
   "metadata": {},
   "outputs": [],
   "source": [
    "def play_optimal_strategy():\n",
    "    rv = 0\n",
    "    NumRolls = 0\n",
    "    #optimal_rolls = (-1/np.log(19/20))\n",
    "    optimal_rolls = 19\n",
    "    ev = ((19/20)**optimal_rolls) * (optimal_rolls) * 10\n",
    "    playing = True\n",
    "    while NumRolls <= optimal_rolls and playing is True:\n",
    "        r =  random.choice(sides)\n",
    "        if r != \"GO HOME\":\n",
    "            rv = rv + r\n",
    "            NumRolls = NumRolls + 1\n",
    "        else:\n",
    "            #rv = 0\n",
    "            playing = False\n",
    "    result = [rv, NumRolls]\n",
    "    return result\n",
    "        "
   ]
  },
  {
   "cell_type": "code",
   "execution_count": 55,
   "metadata": {},
   "outputs": [
    {
     "name": "stdout",
     "output_type": "stream",
     "text": [
     ]
    }
   ],
   "source": [
    "optimal_rv = []\n",
    "optimal_num_rolls = []\n",
    "\n",
    "for i in range(1000000):\n",
    "    result = play_optimal_strategy()\n",
    "    optimal_rv.append(result[0])\n",
    "    optimal_num_rolls.append(result[1])\n",
    "    \n",
    "#print(mean(optimal_rv))\n",
    "#print(mean(optimal_num_rolls))"
   ]
  },
  {
   "cell_type": "code",
   "execution_count": null,
   "metadata": {},
   "outputs": [],
   "source": [
    "and rv < ev"
   ]
  },
  {
   "cell_type": "code",
   "execution_count": null,
   "metadata": {},
   "outputs": [],
   "source": []
  }
 ],
 "metadata": {
  "kernelspec": {
   "display_name": "Python 3",
   "language": "python",
   "name": "python3"
  },
  "language_info": {
   "codemirror_mode": {
    "name": "ipython",
    "version": 3
   },
   "file_extension": ".py",
   "mimetype": "text/x-python",
   "name": "python",
   "nbconvert_exporter": "python",
   "pygments_lexer": "ipython3",
   "version": "3.8.3"
  }
 },
 "nbformat": 4,
 "nbformat_minor": 4
}
